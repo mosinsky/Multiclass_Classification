{
 "cells": [
  {
   "cell_type": "code",
   "execution_count": null,
   "metadata": {},
   "outputs": [],
   "source": [
    "%run ./imports.ipynb"
   ]
  },
  {
   "cell_type": "code",
   "execution_count": null,
   "metadata": {},
   "outputs": [],
   "source": [
    "# def clean(text):\n",
    "#     text = text.lower()\n",
    "#     text = re.sub(r'[^a-zA-Z\\s]', '', text) #special characters\n",
    "#     text = re.sub('\\[.*\\]','', text).strip() #brackets\n",
    "#     text = re.sub('\\S*\\d\\S*\\s*','', text).strip() #numbers\n",
    "#     text = text.translate(str.maketrans('', '', string.punctuation))\n",
    "#     tokens = word_tokenize(text)\n",
    "#     stop_words = set(stopwords.words('english'))\n",
    "#     tokens = [token for token in tokens if token not in stop_words]\n",
    "#     stemmer = PorterStemmer()\n",
    "#     tokens = [stemmer.stem(token) for token in tokens]\n",
    "#     text = ' '.join(tokens)\n",
    "#     return text.strip()"
   ]
  },
  {
   "cell_type": "code",
   "execution_count": 9,
   "metadata": {},
   "outputs": [],
   "source": [
    "def clean(text):\n",
    "    text = text.lower() #lower letter\n",
    "    text = re.sub('\\[.*\\]','', text).strip() #brackets\n",
    "    text = re.sub('\\S*\\d\\S*\\s*','', text).strip()  #numbers\n",
    "    text = text.translate(str.maketrans('', '', string.punctuation)) #punctuation\n",
    "    return text.strip()"
   ]
  },
  {
   "cell_type": "code",
   "execution_count": null,
   "metadata": {},
   "outputs": [],
   "source": [
    "def lemmatization(text):\n",
    "    doc = nlp(text)\n",
    "    lem_tokens = [token.lemma_ for token in doc if token.text.lower() not in STOP_WORDS]\n",
    "    lem_text = ' '.join(lem_tokens)\n",
    "    \n",
    "    return lem_text"
   ]
  },
  {
   "cell_type": "code",
   "execution_count": null,
   "metadata": {},
   "outputs": [],
   "source": [
    "def stemming(text):\n",
    "    stemmer = PorterStemmer()\n",
    "    words = word_tokenize(text)\n",
    "    stem_words = [stemmer.stem(word) for word in words if word.text.lower() not in STOP_WORDS]\n",
    "    stem_text = ' '.join(stem_words)\n",
    "\n",
    "    return stem_text"
   ]
  },
  {
   "cell_type": "code",
   "execution_count": 10,
   "metadata": {},
   "outputs": [],
   "source": [
    "# def lem(text):\n",
    "#     input = nlp(text)\n",
    "#     result = [token.lemma_ for token in input if not token.text in set(stopwords)] #check stopwords\n",
    "#     return ' '.join(result) #create string with new data"
   ]
  },
  {
   "cell_type": "code",
   "execution_count": null,
   "metadata": {},
   "outputs": [],
   "source": [
    "def spacy_clean(text):\n",
    "    input = nlp(text)\n",
    "    result = [token.text for token in input if token.tag_ == 'NN'] #check for nouns\n",
    "    return ' '.join(result) #create string with new data"
   ]
  },
  {
   "cell_type": "code",
   "execution_count": null,
   "metadata": {},
   "outputs": [],
   "source": [
    "def remove(text):\n",
    "    text = text.str.replace('xxxx', '')\n",
    "    text = text.str.replace('-PRON-', '')\n",
    "\n",
    "    return text"
   ]
  }
 ],
 "metadata": {
  "kernelspec": {
   "display_name": "Python 3",
   "language": "python",
   "name": "python3"
  },
  "language_info": {
   "codemirror_mode": {
    "name": "ipython",
    "version": 3
   },
   "file_extension": ".py",
   "mimetype": "text/x-python",
   "name": "python",
   "nbconvert_exporter": "python",
   "pygments_lexer": "ipython3",
   "version": "3.11.2"
  }
 },
 "nbformat": 4,
 "nbformat_minor": 2
}
