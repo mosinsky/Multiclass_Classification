{
 "cells": [
  {
   "cell_type": "markdown",
   "metadata": {},
   "source": [
    "# Imports"
   ]
  },
  {
   "cell_type": "code",
   "execution_count": 54,
   "metadata": {},
   "outputs": [],
   "source": [
    "import json \n",
    "import numpy as np\n",
    "import pandas as pd\n",
    "import re, nltk, spacy, string\n",
    "import en_core_web_sm\n",
    "from nltk.tokenize import word_tokenize\n",
    "from nltk.corpus import stopwords\n",
    "nlp = spacy.load(\"en_core_web_sm\")\n",
    "# stopwords = nlp.Defaults.stop_words\n",
    "from spacy.lang.en.stop_words import STOP_WORDS\n",
    "from nltk.stem import PorterStemmer\n",
    "from sklearn.feature_extraction.text import CountVectorizer, TfidfVectorizer\n",
    "from pprint import pprint\n",
    "from sklearn.decomposition import NMF\n",
    "from sklearn import preprocessing\n",
    "# nltk.download('all')"
   ]
  },
  {
   "cell_type": "code",
   "execution_count": 55,
   "metadata": {},
   "outputs": [],
   "source": [
    "# charts\n",
    "import matplotlib.pyplot as plt\n",
    "import seaborn as sns\n",
    "import os\n",
    "from plotly.offline import plot\n",
    "import plotly.graph_objects as go\n",
    "import plotly.express as px\n",
    "%matplotlib inline"
   ]
  },
  {
   "cell_type": "code",
   "execution_count": 56,
   "metadata": {},
   "outputs": [],
   "source": [
    "#warnings\n",
    "import warnings\n",
    "warnings.filterwarnings('ignore')\n",
    "\n",
    "#options\n",
    "from sklearn.feature_extraction.text import CountVectorizer, TfidfVectorizer\n",
    "from pprint import pprint"
   ]
  },
  {
   "cell_type": "markdown",
   "metadata": {},
   "source": [
    "# Functions"
   ]
  },
  {
   "cell_type": "markdown",
   "metadata": {},
   "source": [
    "### 1. Data cleaning"
   ]
  },
  {
   "cell_type": "code",
   "execution_count": 57,
   "metadata": {},
   "outputs": [],
   "source": [
    "def remove_special_characters(text):\n",
    "    clean_text = re.sub(r'[^a-zA-Z0-9\\s]', '', text)\n",
    "    clean_text = re.sub('\\S*\\d\\S*\\s*', '', clean_text)\n",
    "    \n",
    "    return clean_text\n",
    "\n",
    "def remove_punctuation(text):\n",
    "    punctuation = text.translate(str.maketrans('', '', string.punctuation))\n",
    "    return punctuation\n",
    "\n",
    "def convert_to_lowercase(text):\n",
    "    text_lower = text.lower()\n",
    "    return text_lower\n",
    "\n",
    "def tokenization(text):\n",
    "    tokens  = word_tokenize(text)\n",
    "\n",
    "    return ' '.join(tokens)\n",
    "\n",
    "def remove_stopwords(text):\n",
    "    stop_words = set(stopwords.words('english'))\n",
    "    words = word_tokenize(text)\n",
    "    filtered_words = [word for word in words if word.lower() not in stop_words]\n",
    "    return ' '.join(filtered_words)\n",
    "    \n",
    "\n",
    "def lem_text(text):\n",
    "    doc = nlp(text)\n",
    "    lemma = ' '.join([token.lemma_ for token in doc])\n",
    "    \n",
    "    return lemma\n",
    "\n",
    "def replace(text):\n",
    "    replaced = text.replace('xxxx', '').replace('-PRON-', '')\n",
    "\n",
    "    return replaced\n",
    "\n"
   ]
  },
  {
   "cell_type": "markdown",
   "metadata": {},
   "source": [
    "### 2. Merge cleaning functions for one function"
   ]
  },
  {
   "cell_type": "code",
   "execution_count": 58,
   "metadata": {},
   "outputs": [],
   "source": [
    "def preprocessing_data(text):\n",
    "    \n",
    "    text = remove_special_characters(text) #pass\n",
    "    text = remove_punctuation(text) #pass\n",
    "    text = convert_to_lowercase(text) #pass\n",
    "    text = tokenization(text) #pass\n",
    "    text = remove_stopwords(text) #pass\n",
    "    text = lem_text(text) #pass\n",
    "    text = replace(text) #pass\n",
    "    return text"
   ]
  },
  {
   "cell_type": "markdown",
   "metadata": {},
   "source": [
    "### 3. Restore basic forms of words"
   ]
  },
  {
   "cell_type": "code",
   "execution_count": 59,
   "metadata": {},
   "outputs": [],
   "source": [
    "def lemmatization(text):\n",
    "    doc = nlp(text)\n",
    "    lem_tokens = [token.lemma_ for token in doc if token.text.lower() not in STOP_WORDS]\n",
    "    return ' '.join(lem_tokens)\n",
    "    \n",
    "    # return lem_text\n",
    "\n",
    "def stemming(text):\n",
    "    stemmer = PorterStemmer()\n",
    "    words = word_tokenize(text)\n",
    "    stem_words = [stemmer.stem(word) for word in words if word.text.lower() not in STOP_WORDS]\n",
    "    return ' '.join(stem_words)\n",
    "\n",
    "    # return stem_text\n",
    "\n",
    "def remove_POS_tags(text):\n",
    "    doc = nlp(text)\n",
    "    result = [token.text for token in doc if token.tag_ == 'NN']  # check for nouns\n",
    "    return ' '.join(result)\n",
    "    # return remove_pos\n",
    "\n",
    "\n",
    "#Write your function to extract the POS tags NN\n",
    "# def extract_pos_tags(text):\n",
    "#     doc = nlp(text)\n",
    "#     sent = [token.text for token in doc if token.tag_ == 'NN']\n",
    "#     return ' '.join(sent)"
   ]
  },
  {
   "cell_type": "markdown",
   "metadata": {},
   "source": [
    "# Importing data "
   ]
  },
  {
   "cell_type": "markdown",
   "metadata": {},
   "source": [
    "### dataset - https://www.kaggle.com/datasets/abhishek14398/automatic-ticket-classification-dataset/data"
   ]
  },
  {
   "cell_type": "code",
   "execution_count": 60,
   "metadata": {},
   "outputs": [],
   "source": [
    "path = \"complaints.json\"\n",
    "open_path = open(path) \n",
    "read_data = json.load(open_path)\n",
    "df=pd.json_normalize(read_data)"
   ]
  },
  {
   "cell_type": "code",
   "execution_count": 61,
   "metadata": {},
   "outputs": [],
   "source": [
    "df = df[['_source.complaint_what_happened','_source.product','_source.sub_product']]\n",
    "df = df.rename(columns={'_source.complaint_what_happened': 'complaint_text', '_source.product': 'category','_source.sub_product': 'sub_category'})\n",
    "\n",
    "# data modelling\n",
    "df['category'] = df['category'] + '+' + df['sub_category']\n",
    "df = df.drop(['sub_category'],axis= 1)\n",
    "df[df['complaint_text']==''] = np.nan\n",
    "df = df[~df['complaint_text'].isnull()]"
   ]
  },
  {
   "cell_type": "markdown",
   "metadata": {},
   "source": [
    "# text cleaning"
   ]
  },
  {
   "cell_type": "code",
   "execution_count": 62,
   "metadata": {},
   "outputs": [
    {
     "data": {
      "text/html": [
       "<div>\n",
       "<style scoped>\n",
       "    .dataframe tbody tr th:only-of-type {\n",
       "        vertical-align: middle;\n",
       "    }\n",
       "\n",
       "    .dataframe tbody tr th {\n",
       "        vertical-align: top;\n",
       "    }\n",
       "\n",
       "    .dataframe thead th {\n",
       "        text-align: right;\n",
       "    }\n",
       "</style>\n",
       "<table border=\"1\" class=\"dataframe\">\n",
       "  <thead>\n",
       "    <tr style=\"text-align: right;\">\n",
       "      <th></th>\n",
       "      <th>complaint_text</th>\n",
       "      <th>category</th>\n",
       "      <th>clean</th>\n",
       "      <th>lemma</th>\n",
       "      <th>POS</th>\n",
       "    </tr>\n",
       "  </thead>\n",
       "  <tbody>\n",
       "    <tr>\n",
       "      <th>1</th>\n",
       "      <td>Good morning my name is XXXX XXXX and I apprec...</td>\n",
       "      <td>Debt collection+Credit card debt</td>\n",
       "      <td>good morning name   appreciate could help put ...</td>\n",
       "      <td>good morning name appreciate could help put st...</td>\n",
       "      <td>morning name appreciate bank service write cha...</td>\n",
       "    </tr>\n",
       "    <tr>\n",
       "      <th>2</th>\n",
       "      <td>I upgraded my XXXX XXXX card in XX/XX/2018 and...</td>\n",
       "      <td>Credit card or prepaid card+General-purpose cr...</td>\n",
       "      <td>upgrade   card tell agent upgrade anniversary ...</td>\n",
       "      <td>upgrade card tell agent upgrade anniversary da...</td>\n",
       "      <td>card agent upgrade anniversary date agent info...</td>\n",
       "    </tr>\n",
       "    <tr>\n",
       "      <th>10</th>\n",
       "      <td>Chase Card was reported on XX/XX/2019. However...</td>\n",
       "      <td>Credit reporting, credit repair services, or o...</td>\n",
       "      <td>chase card report however fraudulent applicati...</td>\n",
       "      <td>chase card report however fraudulent applicati...</td>\n",
       "      <td>chase card report application submit identity ...</td>\n",
       "    </tr>\n",
       "    <tr>\n",
       "      <th>11</th>\n",
       "      <td>On XX/XX/2018, while trying to book a XXXX  XX...</td>\n",
       "      <td>Credit reporting, credit repair services, or o...</td>\n",
       "      <td>try book   ticket come across offer apply towa...</td>\n",
       "      <td>try book ticket come across offer apply toward...</td>\n",
       "      <td>book ticket offer ticket reward card informati...</td>\n",
       "    </tr>\n",
       "    <tr>\n",
       "      <th>14</th>\n",
       "      <td>my grand son give me check for {$1600.00} i de...</td>\n",
       "      <td>Checking or savings account+Checking account</td>\n",
       "      <td>grand son give check deposit chase account fun...</td>\n",
       "      <td>grand son give check deposit chase account fun...</td>\n",
       "      <td>son check deposit chase account fund account m...</td>\n",
       "    </tr>\n",
       "  </tbody>\n",
       "</table>\n",
       "</div>"
      ],
      "text/plain": [
       "                                       complaint_text  \\\n",
       "1   Good morning my name is XXXX XXXX and I apprec...   \n",
       "2   I upgraded my XXXX XXXX card in XX/XX/2018 and...   \n",
       "10  Chase Card was reported on XX/XX/2019. However...   \n",
       "11  On XX/XX/2018, while trying to book a XXXX  XX...   \n",
       "14  my grand son give me check for {$1600.00} i de...   \n",
       "\n",
       "                                             category  \\\n",
       "1                    Debt collection+Credit card debt   \n",
       "2   Credit card or prepaid card+General-purpose cr...   \n",
       "10  Credit reporting, credit repair services, or o...   \n",
       "11  Credit reporting, credit repair services, or o...   \n",
       "14       Checking or savings account+Checking account   \n",
       "\n",
       "                                                clean  \\\n",
       "1   good morning name   appreciate could help put ...   \n",
       "2   upgrade   card tell agent upgrade anniversary ...   \n",
       "10  chase card report however fraudulent applicati...   \n",
       "11  try book   ticket come across offer apply towa...   \n",
       "14  grand son give check deposit chase account fun...   \n",
       "\n",
       "                                                lemma  \\\n",
       "1   good morning name appreciate could help put st...   \n",
       "2   upgrade card tell agent upgrade anniversary da...   \n",
       "10  chase card report however fraudulent applicati...   \n",
       "11  try book ticket come across offer apply toward...   \n",
       "14  grand son give check deposit chase account fun...   \n",
       "\n",
       "                                                  POS  \n",
       "1   morning name appreciate bank service write cha...  \n",
       "2   card agent upgrade anniversary date agent info...  \n",
       "10  chase card report application submit identity ...  \n",
       "11  book ticket offer ticket reward card informati...  \n",
       "14  son check deposit chase account fund account m...  "
      ]
     },
     "execution_count": 62,
     "metadata": {},
     "output_type": "execute_result"
    }
   ],
   "source": [
    "\n",
    "data = df # replace to have possibility to load back original data\n",
    "data['clean'] = data['complaint_text'].apply(lambda x: preprocessing_data(x)) # new column with preprocessed data\n",
    "# data_new['clean'] = data_new['clean'].apply(lambda x: remove_POS_tags(x))\n",
    "data['clean'] = data['clean'].apply(lambda x: preprocessing_data(x))\n",
    "data['clean'] = data['clean'].apply(lambda x: remove_POS_tags(x))\n",
    "data.head()"
   ]
  },
  {
   "cell_type": "markdown",
   "metadata": {},
   "source": [
    "### Check data"
   ]
  },
  {
   "cell_type": "code",
   "execution_count": 66,
   "metadata": {},
   "outputs": [
    {
     "data": {
      "text/plain": [
       "(array([8.525e+03, 6.543e+03, 2.857e+03, 1.357e+03, 8.810e+02, 4.000e+02,\n",
       "        1.700e+02, 7.300e+01, 6.700e+01, 4.500e+01, 3.600e+01, 2.800e+01,\n",
       "        1.600e+01, 1.400e+01, 8.000e+00, 4.000e+00, 8.000e+00, 5.000e+00,\n",
       "        8.000e+00, 3.000e+00, 3.000e+00, 1.000e+00, 3.000e+00, 1.000e+00,\n",
       "        4.000e+00, 2.000e+00, 0.000e+00, 1.000e+00, 0.000e+00, 1.000e+00,\n",
       "        0.000e+00, 2.000e+00, 0.000e+00, 0.000e+00, 1.000e+00, 0.000e+00,\n",
       "        0.000e+00, 1.000e+00, 1.000e+00, 0.000e+00, 0.000e+00, 1.000e+00,\n",
       "        0.000e+00, 1.000e+00, 0.000e+00, 0.000e+00, 0.000e+00, 0.000e+00,\n",
       "        0.000e+00, 1.000e+00]),\n",
       " array([    0. ,   439.6,   879.2,  1318.8,  1758.4,  2198. ,  2637.6,\n",
       "         3077.2,  3516.8,  3956.4,  4396. ,  4835.6,  5275.2,  5714.8,\n",
       "         6154.4,  6594. ,  7033.6,  7473.2,  7912.8,  8352.4,  8792. ,\n",
       "         9231.6,  9671.2, 10110.8, 10550.4, 10990. , 11429.6, 11869.2,\n",
       "        12308.8, 12748.4, 13188. , 13627.6, 14067.2, 14506.8, 14946.4,\n",
       "        15386. , 15825.6, 16265.2, 16704.8, 17144.4, 17584. , 18023.6,\n",
       "        18463.2, 18902.8, 19342.4, 19782. , 20221.6, 20661.2, 21100.8,\n",
       "        21540.4, 21980. ]),\n",
       " <BarContainer object of 50 artists>)"
      ]
     },
     "execution_count": 66,
     "metadata": {},
     "output_type": "execute_result"
    },
    {
     "data": {
      "image/png": "[encoded data removed]",
      "text/plain": [
       "<Figure size 1000x600 with 1 Axes>"
      ]
     },
     "metadata": {},
     "output_type": "display_data"
    }
   ],
   "source": [
    "# Write your code here to visualise the data according to the 'Complaint' character length\n",
    "\n",
    "plt.figure(figsize=(10,6))\n",
    "# doc_lens = [len(d) for d in data.clean]\n",
    "doc_lens = [len(d) for d in data.clean]\n",
    "plt.hist(doc_lens, bins = 50)"
   ]
  },
  {
   "cell_type": "code",
   "execution_count": 64,
   "metadata": {},
   "outputs": [
    {
     "data": {
      "text/html": [
       "<div>\n",
       "<style scoped>\n",
       "    .dataframe tbody tr th:only-of-type {\n",
       "        vertical-align: middle;\n",
       "    }\n",
       "\n",
       "    .dataframe tbody tr th {\n",
       "        vertical-align: top;\n",
       "    }\n",
       "\n",
       "    .dataframe thead th {\n",
       "        text-align: right;\n",
       "    }\n",
       "</style>\n",
       "<table border=\"1\" class=\"dataframe\">\n",
       "  <thead>\n",
       "    <tr style=\"text-align: right;\">\n",
       "      <th></th>\n",
       "      <th>complaint_text</th>\n",
       "      <th>category</th>\n",
       "      <th>clean</th>\n",
       "      <th>lemma</th>\n",
       "      <th>POS</th>\n",
       "    </tr>\n",
       "  </thead>\n",
       "  <tbody>\n",
       "    <tr>\n",
       "      <th>1</th>\n",
       "      <td>Good morning my name is XXXX XXXX and I apprec...</td>\n",
       "      <td>Debt collection+Credit card debt</td>\n",
       "      <td>good morning name   appreciate could help put ...</td>\n",
       "      <td>good morning name appreciate could help put st...</td>\n",
       "      <td>morning name appreciate bank service write cha...</td>\n",
       "    </tr>\n",
       "    <tr>\n",
       "      <th>2</th>\n",
       "      <td>I upgraded my XXXX XXXX card in XX/XX/2018 and...</td>\n",
       "      <td>Credit card or prepaid card+General-purpose cr...</td>\n",
       "      <td>upgrade   card tell agent upgrade anniversary ...</td>\n",
       "      <td>upgrade card tell agent upgrade anniversary da...</td>\n",
       "      <td>card agent upgrade anniversary date agent info...</td>\n",
       "    </tr>\n",
       "    <tr>\n",
       "      <th>10</th>\n",
       "      <td>Chase Card was reported on XX/XX/2019. However...</td>\n",
       "      <td>Credit reporting, credit repair services, or o...</td>\n",
       "      <td>chase card report however fraudulent applicati...</td>\n",
       "      <td>chase card report however fraudulent applicati...</td>\n",
       "      <td>chase card report application submit identity ...</td>\n",
       "    </tr>\n",
       "    <tr>\n",
       "      <th>11</th>\n",
       "      <td>On XX/XX/2018, while trying to book a XXXX  XX...</td>\n",
       "      <td>Credit reporting, credit repair services, or o...</td>\n",
       "      <td>try book   ticket come across offer apply towa...</td>\n",
       "      <td>try book ticket come across offer apply toward...</td>\n",
       "      <td>book ticket offer ticket reward card informati...</td>\n",
       "    </tr>\n",
       "    <tr>\n",
       "      <th>14</th>\n",
       "      <td>my grand son give me check for {$1600.00} i de...</td>\n",
       "      <td>Checking or savings account+Checking account</td>\n",
       "      <td>grand son give check deposit chase account fun...</td>\n",
       "      <td>grand son give check deposit chase account fun...</td>\n",
       "      <td>son check deposit chase account fund account m...</td>\n",
       "    </tr>\n",
       "  </tbody>\n",
       "</table>\n",
       "</div>"
      ],
      "text/plain": [
       "                                       complaint_text  \\\n",
       "1   Good morning my name is XXXX XXXX and I apprec...   \n",
       "2   I upgraded my XXXX XXXX card in XX/XX/2018 and...   \n",
       "10  Chase Card was reported on XX/XX/2019. However...   \n",
       "11  On XX/XX/2018, while trying to book a XXXX  XX...   \n",
       "14  my grand son give me check for {$1600.00} i de...   \n",
       "\n",
       "                                             category  \\\n",
       "1                    Debt collection+Credit card debt   \n",
       "2   Credit card or prepaid card+General-purpose cr...   \n",
       "10  Credit reporting, credit repair services, or o...   \n",
       "11  Credit reporting, credit repair services, or o...   \n",
       "14       Checking or savings account+Checking account   \n",
       "\n",
       "                                                clean  \\\n",
       "1   good morning name   appreciate could help put ...   \n",
       "2   upgrade   card tell agent upgrade anniversary ...   \n",
       "10  chase card report however fraudulent applicati...   \n",
       "11  try book   ticket come across offer apply towa...   \n",
       "14  grand son give check deposit chase account fun...   \n",
       "\n",
       "                                                lemma  \\\n",
       "1   good morning name appreciate could help put st...   \n",
       "2   upgrade card tell agent upgrade anniversary da...   \n",
       "10  chase card report however fraudulent applicati...   \n",
       "11  try book ticket come across offer apply toward...   \n",
       "14  grand son give check deposit chase account fun...   \n",
       "\n",
       "                                                  POS  \n",
       "1   morning name appreciate bank service write cha...  \n",
       "2   card agent upgrade anniversary date agent info...  \n",
       "10  chase card report application submit identity ...  \n",
       "11  book ticket offer ticket reward card informati...  \n",
       "14  son check deposit chase account fund account m...  "
      ]
     },
     "execution_count": 64,
     "metadata": {},
     "output_type": "execute_result"
    }
   ],
   "source": [
    "data_test.head()"
   ]
  },
  {
   "cell_type": "markdown",
   "metadata": {},
   "source": [
    "# Topic Modelling\n",
    "### in this dataset I have too much categories, so my plan is to change quantity of categories to 5.\n",
    "### This can be done by NFM or LDA\n",
    "###\n",
    "###\n",
    "###"
   ]
  },
  {
   "cell_type": "markdown",
   "metadata": {},
   "source": [
    "##### vectorizer - TFIDF"
   ]
  },
  {
   "cell_type": "code",
   "execution_count": 65,
   "metadata": {},
   "outputs": [],
   "source": [
    "vectorizer = TfidfVectorizer(min_df=2, max_df=0.95, stop_words='english')\n",
    "dtm = vectorizer.fit_transform(data['clean']) # document term metrix\n",
    "# vectorizer.get_feature_names_out()[:10]"
   ]
  },
  {
   "cell_type": "code",
   "execution_count": null,
   "metadata": {},
   "outputs": [],
   "source": [
    "dtm"
   ]
  },
  {
   "cell_type": "markdown",
   "metadata": {},
   "source": [
    "#\n",
    "#\n",
    "#\n",
    "#\n",
    "#\n",
    "# NFM"
   ]
  }
 ],
 "metadata": {
  "kernelspec": {
   "display_name": "Python 3",
   "language": "python",
   "name": "python3"
  },
  "language_info": {
   "codemirror_mode": {
    "name": "ipython",
    "version": 3
   },
   "file_extension": ".py",
   "mimetype": "text/x-python",
   "name": "python",
   "nbconvert_exporter": "python",
   "pygments_lexer": "ipython3",
   "version": "3.12.1"
  }
 },
 "nbformat": 4,
 "nbformat_minor": 2
}
