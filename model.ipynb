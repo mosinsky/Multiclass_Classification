{
 "cells": [
  {
   "cell_type": "markdown",
   "metadata": {},
   "source": [
    "# Imports"
   ]
  },
  {
   "cell_type": "code",
   "execution_count": 2,
   "metadata": {},
   "outputs": [],
   "source": [
    "import json \n",
    "import numpy as np\n",
    "import pandas as pd\n",
    "import re, nltk, spacy, string\n",
    "import en_core_web_sm\n",
    "from nltk.tokenize import word_tokenize\n",
    "from nltk.corpus import stopwords\n",
    "nlp = spacy.load(\"en_core_web_sm\")\n",
    "# stopwords = nlp.Defaults.stop_words\n",
    "from spacy.lang.en.stop_words import STOP_WORDS\n",
    "from nltk.stem import PorterStemmer\n",
    "from sklearn.feature_extraction.text import CountVectorizer, TfidfVectorizer\n",
    "from pprint import pprint\n",
    "from sklearn.decomposition import NMF\n",
    "from sklearn import preprocessing\n",
    "from nltk import ngrams\n",
    "from nltk import FreqDist\n",
    "from sklearn.decomposition import LatentDirichletAllocation\n",
    "# nltk.download('all')"
   ]
  },
  {
   "cell_type": "code",
   "execution_count": 3,
   "metadata": {},
   "outputs": [],
   "source": [
    "# charts\n",
    "import matplotlib.pyplot as plt\n",
    "import seaborn as sns\n",
    "import os\n",
    "from plotly.offline import plot\n",
    "import plotly.graph_objects as go\n",
    "import plotly.express as px\n",
    "%matplotlib inline"
   ]
  },
  {
   "cell_type": "code",
   "execution_count": 4,
   "metadata": {},
   "outputs": [],
   "source": [
    "#warnings\n",
    "import warnings\n",
    "warnings.filterwarnings('ignore')\n",
    "\n",
    "#options\n",
    "from sklearn.feature_extraction.text import CountVectorizer, TfidfVectorizer\n",
    "from pprint import pprint"
   ]
  },
  {
   "cell_type": "markdown",
   "metadata": {},
   "source": [
    "# Functions"
   ]
  },
  {
   "cell_type": "markdown",
   "metadata": {},
   "source": [
    "### 1. Data cleaning"
   ]
  },
  {
   "cell_type": "code",
   "execution_count": 5,
   "metadata": {},
   "outputs": [],
   "source": [
    "def remove_special_characters(text):\n",
    "    clean_text = re.sub(r'[^a-zA-Z0-9\\s]', '', text)\n",
    "    clean_text = re.sub('\\S*\\d\\S*\\s*', '', clean_text)\n",
    "    \n",
    "    return clean_text\n",
    "\n",
    "def remove_punctuation(text):\n",
    "    punctuation = text.translate(str.maketrans('', '', string.punctuation))\n",
    "    return punctuation\n",
    "\n",
    "def convert_to_lowercase(text):\n",
    "    text_lower = text.lower()\n",
    "    return text_lower\n",
    "\n",
    "def tokenization(text):\n",
    "    tokens  = word_tokenize(text)\n",
    "\n",
    "    return ' '.join(tokens)\n",
    "\n",
    "def remove_stopwords(text):\n",
    "    stop_words = set(stopwords.words('english'))\n",
    "    words = word_tokenize(text)\n",
    "    filtered_words = [word for word in words if word.lower() not in stop_words]\n",
    "    return ' '.join(filtered_words)\n",
    "    \n",
    "\n",
    "def lem_text(text):\n",
    "    doc = nlp(text)\n",
    "    lemma = ' '.join([token.lemma_ for token in doc])\n",
    "    \n",
    "    return lemma\n",
    "\n",
    "def replace(text):\n",
    "    replaced = text.replace('xxxx', '').replace('-PRON-', '')\n",
    "\n",
    "    return replaced\n",
    "\n"
   ]
  },
  {
   "cell_type": "markdown",
   "metadata": {},
   "source": [
    "### 2. Merge cleaning functions for one function"
   ]
  },
  {
   "cell_type": "code",
   "execution_count": 6,
   "metadata": {},
   "outputs": [],
   "source": [
    "def preprocessing_data(text):\n",
    "    \n",
    "    text = remove_special_characters(text) #pass\n",
    "    text = remove_punctuation(text) #pass\n",
    "    text = convert_to_lowercase(text) #pass\n",
    "    text = tokenization(text) #pass\n",
    "    text = remove_stopwords(text) #pass\n",
    "    text = lem_text(text) #pass\n",
    "    text = replace(text) #pass\n",
    "    return text"
   ]
  },
  {
   "cell_type": "markdown",
   "metadata": {},
   "source": [
    "### 3. Restore basic forms of words"
   ]
  },
  {
   "cell_type": "code",
   "execution_count": 7,
   "metadata": {},
   "outputs": [],
   "source": [
    "def lemmatization(text):\n",
    "    doc = nlp(text)\n",
    "    lem_tokens = [token.lemma_ for token in doc if token.text.lower() not in STOP_WORDS]\n",
    "    return ' '.join(lem_tokens)\n",
    "    \n",
    "    # return lem_text\n",
    "\n",
    "def stemming(text):\n",
    "    stemmer = PorterStemmer()\n",
    "    words = word_tokenize(text)\n",
    "    stem_words = [stemmer.stem(word) for word in words if word.text.lower() not in STOP_WORDS]\n",
    "    return ' '.join(stem_words)\n",
    "\n",
    "    # return stem_text\n",
    "\n",
    "def remove_POS_tags(text):\n",
    "    doc = nlp(text)\n",
    "    result = [token.text for token in doc if token.tag_ == 'NN']  # check for nouns\n",
    "    return ' '.join(result)\n",
    "    # return remove_pos\n",
    "\n",
    "\n",
    "#Write your function to extract the POS tags NN\n",
    "# def extract_pos_tags(text):\n",
    "#     doc = nlp(text)\n",
    "#     sent = [token.text for token in doc if token.tag_ == 'NN']\n",
    "#     return ' '.join(sent)"
   ]
  },
  {
   "cell_type": "markdown",
   "metadata": {},
   "source": [
    "# finding ngrams"
   ]
  },
  {
   "cell_type": "code",
   "execution_count": 8,
   "metadata": {},
   "outputs": [],
   "source": [
    "def get_ngrams(text, n):\n",
    "    tokens = word_tokenize(text)\n",
    "    n_grams = ngrams(tokens, n)\n",
    "    return list(n_grams)\n",
    "\n",
    "def get_top_ngrams(data, n, top=30):\n",
    "    combined_text = ' '.join(data.astype(str))\n",
    "    n_grams = get_ngrams(combined_text, n)\n",
    "    freq_dist = FreqDist(n_grams)\n",
    "    return freq_dist.most_common(top)"
   ]
  },
  {
   "cell_type": "markdown",
   "metadata": {},
   "source": [
    "# Importing data "
   ]
  },
  {
   "cell_type": "markdown",
   "metadata": {},
   "source": [
    "### dataset - https://www.kaggle.com/datasets/abhishek14398/automatic-ticket-classification-dataset/data"
   ]
  },
  {
   "cell_type": "code",
   "execution_count": 9,
   "metadata": {},
   "outputs": [],
   "source": [
    "path = \"complaints.json\"\n",
    "open_path = open(path) \n",
    "read_data = json.load(open_path)\n",
    "df=pd.json_normalize(read_data)"
   ]
  },
  {
   "cell_type": "code",
   "execution_count": 10,
   "metadata": {},
   "outputs": [],
   "source": [
    "df = df[['_source.complaint_what_happened','_source.product','_source.sub_product']]\n",
    "df = df.rename(columns={'_source.complaint_what_happened': 'complaint_text', '_source.product': 'category','_source.sub_product': 'sub_category'})\n",
    "\n",
    "# data modelling\n",
    "df['category'] = df['category'] + '+' + df['sub_category']\n",
    "df = df.drop(['sub_category'],axis= 1)\n",
    "df[df['complaint_text']==''] = np.nan\n",
    "df = df[~df['complaint_text'].isnull()]"
   ]
  },
  {
   "cell_type": "markdown",
   "metadata": {},
   "source": [
    "# text cleaning"
   ]
  },
  {
   "cell_type": "code",
   "execution_count": 11,
   "metadata": {},
   "outputs": [
    {
     "data": {
      "text/html": [
       "<div>\n",
       "<style scoped>\n",
       "    .dataframe tbody tr th:only-of-type {\n",
       "        vertical-align: middle;\n",
       "    }\n",
       "\n",
       "    .dataframe tbody tr th {\n",
       "        vertical-align: top;\n",
       "    }\n",
       "\n",
       "    .dataframe thead th {\n",
       "        text-align: right;\n",
       "    }\n",
       "</style>\n",
       "<table border=\"1\" class=\"dataframe\">\n",
       "  <thead>\n",
       "    <tr style=\"text-align: right;\">\n",
       "      <th></th>\n",
       "      <th>complaint_text</th>\n",
       "      <th>category</th>\n",
       "      <th>clean</th>\n",
       "    </tr>\n",
       "  </thead>\n",
       "  <tbody>\n",
       "    <tr>\n",
       "      <th>1</th>\n",
       "      <td>Good morning my name is XXXX XXXX and I apprec...</td>\n",
       "      <td>Debt collection+Credit card debt</td>\n",
       "      <td>morning name appreciate bank service write cha...</td>\n",
       "    </tr>\n",
       "    <tr>\n",
       "      <th>2</th>\n",
       "      <td>I upgraded my XXXX XXXX card in XX/XX/2018 and...</td>\n",
       "      <td>Credit card or prepaid card+General-purpose cr...</td>\n",
       "      <td>card agent upgrade anniversary date agent info...</td>\n",
       "    </tr>\n",
       "    <tr>\n",
       "      <th>10</th>\n",
       "      <td>Chase Card was reported on XX/XX/2019. However...</td>\n",
       "      <td>Credit reporting, credit repair services, or o...</td>\n",
       "      <td>chase card report application submit identity ...</td>\n",
       "    </tr>\n",
       "    <tr>\n",
       "      <th>11</th>\n",
       "      <td>On XX/XX/2018, while trying to book a XXXX  XX...</td>\n",
       "      <td>Credit reporting, credit repair services, or o...</td>\n",
       "      <td>book ticket offer ticket reward card informati...</td>\n",
       "    </tr>\n",
       "    <tr>\n",
       "      <th>14</th>\n",
       "      <td>my grand son give me check for {$1600.00} i de...</td>\n",
       "      <td>Checking or savings account+Checking account</td>\n",
       "      <td>son check deposit chase account fund account m...</td>\n",
       "    </tr>\n",
       "  </tbody>\n",
       "</table>\n",
       "</div>"
      ],
      "text/plain": [
       "                                       complaint_text  \\\n",
       "1   Good morning my name is XXXX XXXX and I apprec...   \n",
       "2   I upgraded my XXXX XXXX card in XX/XX/2018 and...   \n",
       "10  Chase Card was reported on XX/XX/2019. However...   \n",
       "11  On XX/XX/2018, while trying to book a XXXX  XX...   \n",
       "14  my grand son give me check for {$1600.00} i de...   \n",
       "\n",
       "                                             category  \\\n",
       "1                    Debt collection+Credit card debt   \n",
       "2   Credit card or prepaid card+General-purpose cr...   \n",
       "10  Credit reporting, credit repair services, or o...   \n",
       "11  Credit reporting, credit repair services, or o...   \n",
       "14       Checking or savings account+Checking account   \n",
       "\n",
       "                                                clean  \n",
       "1   morning name appreciate bank service write cha...  \n",
       "2   card agent upgrade anniversary date agent info...  \n",
       "10  chase card report application submit identity ...  \n",
       "11  book ticket offer ticket reward card informati...  \n",
       "14  son check deposit chase account fund account m...  "
      ]
     },
     "execution_count": 11,
     "metadata": {},
     "output_type": "execute_result"
    }
   ],
   "source": [
    "\n",
    "data = df # replace to have possibility to load back original data\n",
    "data['clean'] = data['complaint_text'].apply(lambda x: preprocessing_data(x)) # new column with preprocessed data\n",
    "# data_new['clean'] = data_new['clean'].apply(lambda x: remove_POS_tags(x))\n",
    "data['clean'] = data['clean'].apply(lambda x: preprocessing_data(x))\n",
    "data['clean'] = data['clean'].apply(lambda x: remove_POS_tags(x))\n",
    "data.head()"
   ]
  },
  {
   "cell_type": "markdown",
   "metadata": {},
   "source": [
    "### Check data"
   ]
  },
  {
   "cell_type": "code",
   "execution_count": 12,
   "metadata": {},
   "outputs": [
    {
     "data": {
      "text/plain": [
       "(array([8.795e+03, 6.439e+03, 2.881e+03, 1.311e+03, 8.070e+02, 3.590e+02,\n",
       "        1.570e+02, 8.200e+01, 5.700e+01, 4.600e+01, 3.100e+01, 2.500e+01,\n",
       "        1.200e+01, 1.400e+01, 1.100e+01, 5.000e+00, 5.000e+00, 7.000e+00,\n",
       "        2.000e+00, 2.000e+00, 5.000e+00, 4.000e+00, 3.000e+00, 2.000e+00,\n",
       "        0.000e+00, 0.000e+00, 1.000e+00, 0.000e+00, 1.000e+00, 0.000e+00,\n",
       "        0.000e+00, 0.000e+00, 2.000e+00, 0.000e+00, 1.000e+00, 0.000e+00,\n",
       "        0.000e+00, 2.000e+00, 0.000e+00, 1.000e+00, 0.000e+00, 0.000e+00,\n",
       "        0.000e+00, 0.000e+00, 0.000e+00, 0.000e+00, 1.000e+00, 0.000e+00,\n",
       "        0.000e+00, 1.000e+00]),\n",
       " array([    0. ,   249.4,   498.8,   748.2,   997.6,  1247. ,  1496.4,\n",
       "         1745.8,  1995.2,  2244.6,  2494. ,  2743.4,  2992.8,  3242.2,\n",
       "         3491.6,  3741. ,  3990.4,  4239.8,  4489.2,  4738.6,  4988. ,\n",
       "         5237.4,  5486.8,  5736.2,  5985.6,  6235. ,  6484.4,  6733.8,\n",
       "         6983.2,  7232.6,  7482. ,  7731.4,  7980.8,  8230.2,  8479.6,\n",
       "         8729. ,  8978.4,  9227.8,  9477.2,  9726.6,  9976. , 10225.4,\n",
       "        10474.8, 10724.2, 10973.6, 11223. , 11472.4, 11721.8, 11971.2,\n",
       "        12220.6, 12470. ]),\n",
       " <BarContainer object of 50 artists>)"
      ]
     },
     "execution_count": 12,
     "metadata": {},
     "output_type": "execute_result"
    },
    {
     "data": {
      "image/png": "[encoded data removed]",
      "text/plain": [
       "<Figure size 1000x600 with 1 Axes>"
      ]
     },
     "metadata": {},
     "output_type": "display_data"
    }
   ],
   "source": [
    "# Write your code here to visualise the data according to the 'Complaint' character length\n",
    "\n",
    "plt.figure(figsize=(10,6))\n",
    "# doc_lens = [len(d) for d in data.clean]\n",
    "doc_lens = [len(d) for d in data.clean]\n",
    "plt.hist(doc_lens, bins = 50)"
   ]
  },
  {
   "cell_type": "code",
   "execution_count": 13,
   "metadata": {},
   "outputs": [
    {
     "data": {
      "text/html": [
       "<div>\n",
       "<style scoped>\n",
       "    .dataframe tbody tr th:only-of-type {\n",
       "        vertical-align: middle;\n",
       "    }\n",
       "\n",
       "    .dataframe tbody tr th {\n",
       "        vertical-align: top;\n",
       "    }\n",
       "\n",
       "    .dataframe thead th {\n",
       "        text-align: right;\n",
       "    }\n",
       "</style>\n",
       "<table border=\"1\" class=\"dataframe\">\n",
       "  <thead>\n",
       "    <tr style=\"text-align: right;\">\n",
       "      <th></th>\n",
       "      <th>complaint_text</th>\n",
       "      <th>category</th>\n",
       "      <th>clean</th>\n",
       "    </tr>\n",
       "  </thead>\n",
       "  <tbody>\n",
       "    <tr>\n",
       "      <th>1</th>\n",
       "      <td>Good morning my name is XXXX XXXX and I apprec...</td>\n",
       "      <td>Debt collection+Credit card debt</td>\n",
       "      <td>morning name appreciate bank service write cha...</td>\n",
       "    </tr>\n",
       "    <tr>\n",
       "      <th>2</th>\n",
       "      <td>I upgraded my XXXX XXXX card in XX/XX/2018 and...</td>\n",
       "      <td>Credit card or prepaid card+General-purpose cr...</td>\n",
       "      <td>card agent upgrade anniversary date agent info...</td>\n",
       "    </tr>\n",
       "    <tr>\n",
       "      <th>10</th>\n",
       "      <td>Chase Card was reported on XX/XX/2019. However...</td>\n",
       "      <td>Credit reporting, credit repair services, or o...</td>\n",
       "      <td>chase card report application submit identity ...</td>\n",
       "    </tr>\n",
       "    <tr>\n",
       "      <th>11</th>\n",
       "      <td>On XX/XX/2018, while trying to book a XXXX  XX...</td>\n",
       "      <td>Credit reporting, credit repair services, or o...</td>\n",
       "      <td>book ticket offer ticket reward card informati...</td>\n",
       "    </tr>\n",
       "    <tr>\n",
       "      <th>14</th>\n",
       "      <td>my grand son give me check for {$1600.00} i de...</td>\n",
       "      <td>Checking or savings account+Checking account</td>\n",
       "      <td>son check deposit chase account fund account m...</td>\n",
       "    </tr>\n",
       "  </tbody>\n",
       "</table>\n",
       "</div>"
      ],
      "text/plain": [
       "                                       complaint_text  \\\n",
       "1   Good morning my name is XXXX XXXX and I apprec...   \n",
       "2   I upgraded my XXXX XXXX card in XX/XX/2018 and...   \n",
       "10  Chase Card was reported on XX/XX/2019. However...   \n",
       "11  On XX/XX/2018, while trying to book a XXXX  XX...   \n",
       "14  my grand son give me check for {$1600.00} i de...   \n",
       "\n",
       "                                             category  \\\n",
       "1                    Debt collection+Credit card debt   \n",
       "2   Credit card or prepaid card+General-purpose cr...   \n",
       "10  Credit reporting, credit repair services, or o...   \n",
       "11  Credit reporting, credit repair services, or o...   \n",
       "14       Checking or savings account+Checking account   \n",
       "\n",
       "                                                clean  \n",
       "1   morning name appreciate bank service write cha...  \n",
       "2   card agent upgrade anniversary date agent info...  \n",
       "10  chase card report application submit identity ...  \n",
       "11  book ticket offer ticket reward card informati...  \n",
       "14  son check deposit chase account fund account m...  "
      ]
     },
     "execution_count": 13,
     "metadata": {},
     "output_type": "execute_result"
    }
   ],
   "source": [
    "data.head()"
   ]
  },
  {
   "cell_type": "markdown",
   "metadata": {},
   "source": [
    "# Topic Modelling\n",
    "### in this dataset I have too much categories, so my plan is to change quantity of categories to 5.\n",
    "### This can be done by NFM or LDA\n",
    "###\n",
    "###\n",
    "###"
   ]
  },
  {
   "cell_type": "markdown",
   "metadata": {},
   "source": [
    "##### vectorizer - TFIDF"
   ]
  },
  {
   "cell_type": "code",
   "execution_count": 14,
   "metadata": {},
   "outputs": [],
   "source": [
    "vectorizer = TfidfVectorizer(min_df=2, max_df=0.95, stop_words='english')\n",
    "dtm = vectorizer.fit_transform(data['clean']) # document term metrix\n",
    "# vectorizer.get_feature_names_out()[:10]"
   ]
  },
  {
   "cell_type": "code",
   "execution_count": 15,
   "metadata": {},
   "outputs": [
    {
     "data": {
      "text/plain": [
       "<21072x6950 sparse matrix of type '<class 'numpy.float64'>'\n",
       "\twith 680360 stored elements in Compressed Sparse Row format>"
      ]
     },
     "execution_count": 15,
     "metadata": {},
     "output_type": "execute_result"
    }
   ],
   "source": [
    "dtm"
   ]
  },
  {
   "cell_type": "markdown",
   "metadata": {},
   "source": [
    "# Topic Modelling"
   ]
  },
  {
   "cell_type": "markdown",
   "metadata": {},
   "source": [
    "### Finding top n-grams"
   ]
  },
  {
   "cell_type": "code",
   "execution_count": 16,
   "metadata": {},
   "outputs": [],
   "source": [
    "top_unigrams = get_top_ngrams(data['clean'], 1)\n",
    "top_bigrams = get_top_ngrams(data['clean'], 2)\n",
    "top_trigrams = get_top_ngrams(data['clean'], 3)"
   ]
  },
  {
   "cell_type": "code",
   "execution_count": 17,
   "metadata": {},
   "outputs": [
    {
     "data": {
      "text/plain": [
       "[(('chase',), 59224),\n",
       " (('account',), 43657),\n",
       " (('credit',), 33786),\n",
       " (('card',), 30192),\n",
       " (('payment',), 21164)]"
      ]
     },
     "execution_count": 17,
     "metadata": {},
     "output_type": "execute_result"
    }
   ],
   "source": [
    "top_unigrams[:5]"
   ]
  },
  {
   "cell_type": "code",
   "execution_count": 18,
   "metadata": {},
   "outputs": [
    {
     "data": {
      "text/plain": [
       "[(('credit', 'card'), 12813),\n",
       " (('call', 'chase'), 3981),\n",
       " (('credit', 'report'), 3978),\n",
       " (('chase', 'credit'), 3375),\n",
       " (('check', 'account'), 3188)]"
      ]
     },
     "execution_count": 18,
     "metadata": {},
     "output_type": "execute_result"
    }
   ],
   "source": [
    "top_bigrams[:5]"
   ]
  },
  {
   "cell_type": "code",
   "execution_count": 19,
   "metadata": {},
   "outputs": [
    {
     "data": {
      "text/plain": [
       "[(('chase', 'credit', 'card'), 2435),\n",
       " (('credit', 'card', 'account'), 1066),\n",
       " (('credit', 'card', 'company'), 970),\n",
       " (('credit', 'card', 'chase'), 749),\n",
       " (('chase', 'customer', 'service'), 590)]"
      ]
     },
     "execution_count": 19,
     "metadata": {},
     "output_type": "execute_result"
    }
   ],
   "source": [
    "top_trigrams[:5]"
   ]
  },
  {
   "cell_type": "markdown",
   "metadata": {},
   "source": [
    "### Vectorizer - TF-IDF"
   ]
  },
  {
   "cell_type": "code",
   "execution_count": 29,
   "metadata": {},
   "outputs": [],
   "source": [
    "vectorizer = TfidfVectorizer(min_df=2, max_df=0.95, stop_words='english')\n",
    "dtm = vectorizer.fit_transform(data['clean']) # document term metrix\n",
    "feature_names = vectorizer.get_feature_names_out()"
   ]
  },
  {
   "cell_type": "markdown",
   "metadata": {},
   "source": [
    "### NFM"
   ]
  },
  {
   "cell_type": "code",
   "execution_count": 26,
   "metadata": {},
   "outputs": [
    {
     "name": "stdout",
     "output_type": "stream",
     "text": [
      "top 15 words for topic 0\n",
      "['customer', 'claim', 'business', 'number', 'transaction', 'transfer', 'day', 'branch', 'fund', 'chase', 'deposit', 'money', 'bank', 'check', 'account']\n",
      "\n",
      "\n",
      "top 15 words for topic 1\n",
      "['claim', 'time', 'balance', 'use', 'fraud', 'merchant', 'service', 'transaction', 'fee', 'purchase', 'dispute', 'credit', 'chase', 'charge', 'card']\n",
      "\n",
      "\n",
      "top 15 words for topic 2\n",
      "['refinance', 'sale', 'foreclosure', 'request', 'time', 'rate', 'document', 'letter', 'year', 'property', 'home', 'modification', 'chase', 'mortgage', 'loan']\n",
      "\n",
      "\n",
      "top 15 words for topic 3\n",
      "['limit', 'remove', 'application', 'identity', 'chase', 'information', 'reporting', 'debt', 'company', 'score', 'account', 'card', 'inquiry', 'report', 'credit']\n",
      "\n",
      "\n",
      "top 15 words for topic 4\n",
      "['mortgage', 'year', 'credit', 'account', 'date', 'auto', 'day', 'chase', 'time', 'statement', 'fee', 'pay', 'month', 'balance', 'payment']\n",
      "\n",
      "\n"
     ]
    }
   ],
   "source": [
    "nfm = NMF(n_components=5, random_state=42)\n",
    "nfm.fit(dtm)\n",
    "\n",
    "# change dtype from object to int\n",
    "feature_mapping = {feature: idx for idx, feature in enumerate(feature_names)}\n",
    "features_int = [feature_mapping[feature] for feature in feature_names]\n",
    "\n",
    "for index,topic in enumerate(nfm.components_):\n",
    "    top_words_indices = topic.argsort()[-15:]\n",
    "    top_words = [features_int[i] for i in top_words_indices]\n",
    "\n",
    "topics = nfm.transform(dtm)\n",
    "dominant_topics = topics.argmax(axis=1)\n",
    "data['Topic_NFM'] = dominant_topics\n",
    "\n",
    "# print data\n",
    "for index,topic in enumerate(nfm.components_):\n",
    "    print(\"top 15 words for topic\",  index)\n",
    "    print([vectorizer.get_feature_names_out()[i] for i in topic.argsort()[-15:]])\n",
    "    print('\\n')"
   ]
  },
  {
   "cell_type": "markdown",
   "metadata": {},
   "source": [
    "### LDA"
   ]
  },
  {
   "cell_type": "code",
   "execution_count": 27,
   "metadata": {},
   "outputs": [
    {
     "data": {
      "text/plain": [
       "Topic_NFM\n",
       "1    6288\n",
       "0    5393\n",
       "2    3866\n",
       "3    3133\n",
       "4    2392\n",
       "Name: count, dtype: int64"
      ]
     },
     "execution_count": 27,
     "metadata": {},
     "output_type": "execute_result"
    }
   ],
   "source": [
    "data['Topic_NFM'].value_counts()"
   ]
  },
  {
   "cell_type": "code",
   "execution_count": 32,
   "metadata": {},
   "outputs": [
    {
     "name": "stdout",
     "output_type": "stream",
     "text": [
      "top 15 words for topic 0\n",
      "['customer', 'claim', 'business', 'number', 'transaction', 'transfer', 'day', 'branch', 'fund', 'chase', 'deposit', 'money', 'bank', 'check', 'account']\n",
      "\n",
      "\n",
      "top 15 words for topic 1\n",
      "['claim', 'time', 'balance', 'use', 'fraud', 'merchant', 'service', 'transaction', 'fee', 'purchase', 'dispute', 'credit', 'chase', 'charge', 'card']\n",
      "\n",
      "\n",
      "top 15 words for topic 2\n",
      "['refinance', 'sale', 'foreclosure', 'request', 'time', 'rate', 'document', 'letter', 'year', 'property', 'home', 'modification', 'chase', 'mortgage', 'loan']\n",
      "\n",
      "\n",
      "top 15 words for topic 3\n",
      "['limit', 'remove', 'application', 'identity', 'chase', 'information', 'reporting', 'debt', 'company', 'score', 'account', 'card', 'inquiry', 'report', 'credit']\n",
      "\n",
      "\n",
      "top 15 words for topic 4\n",
      "['mortgage', 'year', 'credit', 'account', 'date', 'auto', 'day', 'chase', 'time', 'statement', 'fee', 'pay', 'month', 'balance', 'payment']\n",
      "\n",
      "\n"
     ]
    }
   ],
   "source": [
    "lda = LatentDirichletAllocation(n_components=5, random_state=42)\n",
    "lda.fit(dtm)\n",
    "\n",
    "# Map feature names to integer indices\n",
    "feature_mapping = {feature: idx for idx, feature in enumerate(feature_names)}\n",
    "features_int = [feature_mapping[feature] for feature in feature_names]\n",
    "\n",
    "# Print top words for each topic\n",
    "for index, topic in enumerate(lda.components_):\n",
    "    top_words_indices = topic.argsort()[-15:]\n",
    "    top_words = [features_int[i] for i in top_words_indices]\n",
    "\n",
    "# Transform the document-term matrix using the LDA model\n",
    "topics = lda.transform(dtm)\n",
    "\n",
    "# Get dominant topics for each document\n",
    "dominant_topics = topics.argmax(axis=1)\n",
    "\n",
    "# Add a 'Topic' column to the DataFrame\n",
    "data['Topic_LDA'] = dominant_topics\n",
    "\n",
    "for index,topic in enumerate(nfm.components_):\n",
    "    print(\"top 15 words for topic\",  index)\n",
    "    print([vectorizer.get_feature_names_out()[i] for i in topic.argsort()[-15:]])\n",
    "    print('\\n')"
   ]
  },
  {
   "cell_type": "code",
   "execution_count": 33,
   "metadata": {},
   "outputs": [
    {
     "data": {
      "text/html": [
       "<div>\n",
       "<style scoped>\n",
       "    .dataframe tbody tr th:only-of-type {\n",
       "        vertical-align: middle;\n",
       "    }\n",
       "\n",
       "    .dataframe tbody tr th {\n",
       "        vertical-align: top;\n",
       "    }\n",
       "\n",
       "    .dataframe thead th {\n",
       "        text-align: right;\n",
       "    }\n",
       "</style>\n",
       "<table border=\"1\" class=\"dataframe\">\n",
       "  <thead>\n",
       "    <tr style=\"text-align: right;\">\n",
       "      <th></th>\n",
       "      <th>complaint_text</th>\n",
       "      <th>category</th>\n",
       "      <th>clean</th>\n",
       "      <th>Topic_NFM</th>\n",
       "      <th>Topic_LDA</th>\n",
       "    </tr>\n",
       "  </thead>\n",
       "  <tbody>\n",
       "    <tr>\n",
       "      <th>1</th>\n",
       "      <td>Good morning my name is XXXX XXXX and I apprec...</td>\n",
       "      <td>Debt collection+Credit card debt</td>\n",
       "      <td>morning name appreciate bank service write cha...</td>\n",
       "      <td>2</td>\n",
       "      <td>1</td>\n",
       "    </tr>\n",
       "    <tr>\n",
       "      <th>2</th>\n",
       "      <td>I upgraded my XXXX XXXX card in XX/XX/2018 and...</td>\n",
       "      <td>Credit card or prepaid card+General-purpose cr...</td>\n",
       "      <td>card agent upgrade anniversary date agent info...</td>\n",
       "      <td>1</td>\n",
       "      <td>4</td>\n",
       "    </tr>\n",
       "    <tr>\n",
       "      <th>10</th>\n",
       "      <td>Chase Card was reported on XX/XX/2019. However...</td>\n",
       "      <td>Credit reporting, credit repair services, or o...</td>\n",
       "      <td>chase card report application submit identity ...</td>\n",
       "      <td>3</td>\n",
       "      <td>1</td>\n",
       "    </tr>\n",
       "    <tr>\n",
       "      <th>11</th>\n",
       "      <td>On XX/XX/2018, while trying to book a XXXX  XX...</td>\n",
       "      <td>Credit reporting, credit repair services, or o...</td>\n",
       "      <td>book ticket offer ticket reward card informati...</td>\n",
       "      <td>3</td>\n",
       "      <td>4</td>\n",
       "    </tr>\n",
       "    <tr>\n",
       "      <th>14</th>\n",
       "      <td>my grand son give me check for {$1600.00} i de...</td>\n",
       "      <td>Checking or savings account+Checking account</td>\n",
       "      <td>son check deposit chase account fund account m...</td>\n",
       "      <td>0</td>\n",
       "      <td>0</td>\n",
       "    </tr>\n",
       "  </tbody>\n",
       "</table>\n",
       "</div>"
      ],
      "text/plain": [
       "                                       complaint_text  \\\n",
       "1   Good morning my name is XXXX XXXX and I apprec...   \n",
       "2   I upgraded my XXXX XXXX card in XX/XX/2018 and...   \n",
       "10  Chase Card was reported on XX/XX/2019. However...   \n",
       "11  On XX/XX/2018, while trying to book a XXXX  XX...   \n",
       "14  my grand son give me check for {$1600.00} i de...   \n",
       "\n",
       "                                             category  \\\n",
       "1                    Debt collection+Credit card debt   \n",
       "2   Credit card or prepaid card+General-purpose cr...   \n",
       "10  Credit reporting, credit repair services, or o...   \n",
       "11  Credit reporting, credit repair services, or o...   \n",
       "14       Checking or savings account+Checking account   \n",
       "\n",
       "                                                clean  Topic_NFM  Topic_LDA  \n",
       "1   morning name appreciate bank service write cha...          2          1  \n",
       "2   card agent upgrade anniversary date agent info...          1          4  \n",
       "10  chase card report application submit identity ...          3          1  \n",
       "11  book ticket offer ticket reward card informati...          3          4  \n",
       "14  son check deposit chase account fund account m...          0          0  "
      ]
     },
     "execution_count": 33,
     "metadata": {},
     "output_type": "execute_result"
    }
   ],
   "source": [
    "data.head()"
   ]
  },
  {
   "cell_type": "code",
   "execution_count": 34,
   "metadata": {},
   "outputs": [
    {
     "data": {
      "text/plain": [
       "Topic_NFM\n",
       "1    6288\n",
       "0    5393\n",
       "2    3866\n",
       "3    3133\n",
       "4    2392\n",
       "Name: count, dtype: int64"
      ]
     },
     "execution_count": 34,
     "metadata": {},
     "output_type": "execute_result"
    }
   ],
   "source": [
    "data.Topic_NFM.value_counts()"
   ]
  },
  {
   "cell_type": "code",
   "execution_count": 35,
   "metadata": {},
   "outputs": [
    {
     "data": {
      "text/plain": [
       "Topic_LDA\n",
       "0    7999\n",
       "1    6064\n",
       "2    4366\n",
       "4    2420\n",
       "3     223\n",
       "Name: count, dtype: int64"
      ]
     },
     "execution_count": 35,
     "metadata": {},
     "output_type": "execute_result"
    }
   ],
   "source": [
    "data.Topic_LDA.value_counts()"
   ]
  },
  {
   "cell_type": "code",
   "execution_count": null,
   "metadata": {},
   "outputs": [],
   "source": []
  }
 ],
 "metadata": {
  "kernelspec": {
   "display_name": "Python 3 (ipykernel)",
   "language": "python",
   "name": "python3"
  },
  "language_info": {
   "codemirror_mode": {
    "name": "ipython",
    "version": 3
   },
   "file_extension": ".py",
   "mimetype": "text/x-python",
   "name": "python",
   "nbconvert_exporter": "python",
   "pygments_lexer": "ipython3",
   "version": "3.12.1"
  }
 },
 "nbformat": 4,
 "nbformat_minor": 4
}
