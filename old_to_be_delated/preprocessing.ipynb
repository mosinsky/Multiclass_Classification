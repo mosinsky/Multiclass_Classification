{
 "cells": [
  {
   "cell_type": "code",
   "execution_count": 2,
   "metadata": {},
   "outputs": [],
   "source": [
    "%run ./imports.ipynb"
   ]
  },
  {
   "cell_type": "code",
   "execution_count": 3,
   "metadata": {},
   "outputs": [],
   "source": [
    "def remove_special_characters(text):\n",
    "    clean_text = re.sub(r'[^a-zA-Z0-9\\s]', '', text).strip()\n",
    "    clean_text = re.sub('\\S*\\d\\S*\\s*','', text).strip() \n",
    "    \n",
    "    return ' '.join(clean_text)"
   ]
  },
  {
   "cell_type": "code",
   "execution_count": 4,
   "metadata": {},
   "outputs": [],
   "source": [
    "def remove_punctuation(text):\n",
    "    punctuation = text.translate(str.maketrans('', '', string.punctuation))\n",
    "\n",
    "    return ' '.join(punctuation)"
   ]
  },
  {
   "cell_type": "code",
   "execution_count": 5,
   "metadata": {},
   "outputs": [],
   "source": [
    "def convert_to_lowercase(text):\n",
    "    text_lower = text.lower()\n",
    "    \n",
    "    return ' '.join(text_lower)"
   ]
  },
  {
   "cell_type": "code",
   "execution_count": 6,
   "metadata": {},
   "outputs": [],
   "source": [
    "def tokenization(text):\n",
    "    text_token = word_tokenize(text)\n",
    "\n",
    "    return ' '.join(text_token)"
   ]
  },
  {
   "cell_type": "code",
   "execution_count": 7,
   "metadata": {},
   "outputs": [],
   "source": [
    "def remove_stopwords(text):\n",
    "    # stop_words = set(stopwords.words('english'))\n",
    "    words = word_tokenize(text)\n",
    "    filtered_words = [word for word in words if word.lower() not in STOP_WORDS]\n",
    "    \n",
    "    return ' '.join(filtered_words)"
   ]
  },
  {
   "cell_type": "code",
   "execution_count": 8,
   "metadata": {},
   "outputs": [],
   "source": [
    "def lemmatize_text(text):\n",
    "    doc = nlp(text)\n",
    "    lemmatized_text = ' '.join([token.lemma_ for token in doc])\n",
    "    \n",
    "    return ' '.join(lemmatized_text)"
   ]
  },
  {
   "cell_type": "code",
   "execution_count": 9,
   "metadata": {},
   "outputs": [],
   "source": [
    "def replace(text):\n",
    "    replaced = text.str.replace('xxxx', '')\n",
    "    replaced = text.str.replace('-PRON-', '')\n",
    "\n",
    "    return ' '.join(replaced)"
   ]
  },
  {
   "cell_type": "code",
   "execution_count": 10,
   "metadata": {},
   "outputs": [],
   "source": [
    "def remove_POS_tags(text):\n",
    "    input = nlp(text)\n",
    "    result = [token.text for token in input if token.tag_ == 'NN'] #check for nouns\n",
    "    return ' '.join(result)"
   ]
  },
  {
   "cell_type": "code",
   "execution_count": 4,
   "metadata": {},
   "outputs": [],
   "source": [
    "def preprocess(text):\n",
    "    \n",
    "    text = remove_special_characters(text)\n",
    "    text = remove_punctuation(text)\n",
    "    text = convert_to_lowercase(text)\n",
    "    # text = tokenization(text)\n",
    "    # text = remove_stopwords(text)\n",
    "    text = lemmatize_text(text)\n",
    "    # text = replace(text)\n",
    "    text = remove_POS_tags(text)\n",
    "    return text"
   ]
  },
  {
   "cell_type": "code",
   "execution_count": 3,
   "metadata": {},
   "outputs": [],
   "source": [
    "def lemmatization(text):\n",
    "    doc = nlp(text)\n",
    "    lem_tokens = [token.lemma_ for token in doc if token.text.lower() not in STOP_WORDS]\n",
    "    lem_text = ' '.join(lem_tokens)\n",
    "    \n",
    "    return lem_text"
   ]
  },
  {
   "cell_type": "code",
   "execution_count": 13,
   "metadata": {},
   "outputs": [],
   "source": [
    "def stemming(text):\n",
    "    stemmer = PorterStemmer()\n",
    "    words = word_tokenize(text)\n",
    "    stem_words = [stemmer.stem(word) for word in words if word.text.lower() not in STOP_WORDS]\n",
    "    stem_text = ' '.join(stem_words)\n",
    "\n",
    "    return stem_text"
   ]
  },
  {
   "cell_type": "code",
   "execution_count": null,
   "metadata": {},
   "outputs": [],
   "source": []
  },
  {
   "cell_type": "code",
   "execution_count": null,
   "metadata": {},
   "outputs": [],
   "source": []
  },
  {
   "cell_type": "code",
   "execution_count": 9,
   "metadata": {},
   "outputs": [],
   "source": [
    "# def clean(text):\n",
    "#     text = text.lower() #lower letter\n",
    "#     text = re.sub('\\[.*\\]','', text).strip() #brackets\n",
    "#     text = re.sub('\\S*\\d\\S*\\s*','', text).strip()  #numbers\n",
    "#     text = text.translate(str.maketrans('', '', string.punctuation)) #punctuation\n",
    "#     return text.strip()"
   ]
  },
  {
   "cell_type": "code",
   "execution_count": null,
   "metadata": {},
   "outputs": [],
   "source": []
  },
  {
   "cell_type": "code",
   "execution_count": null,
   "metadata": {},
   "outputs": [],
   "source": []
  }
 ],
 "metadata": {
  "kernelspec": {
   "display_name": "Python 3 (ipykernel)",
   "language": "python",
   "name": "python3"
  },
  "language_info": {
   "codemirror_mode": {
    "name": "ipython",
    "version": 3
   },
   "file_extension": ".py",
   "mimetype": "text/x-python",
   "name": "python",
   "nbconvert_exporter": "python",
   "pygments_lexer": "ipython3",
   "version": "3.12.1"
  }
 },
 "nbformat": 4,
 "nbformat_minor": 4
}
